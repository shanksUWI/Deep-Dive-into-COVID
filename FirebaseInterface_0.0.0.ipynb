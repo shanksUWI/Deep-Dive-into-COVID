{
 "metadata": {
  "language_info": {
   "codemirror_mode": {
    "name": "ipython",
    "version": 3
   },
   "file_extension": ".py",
   "mimetype": "text/x-python",
   "name": "python",
   "nbconvert_exporter": "python",
   "pygments_lexer": "ipython3",
   "version": 3
  },
  "orig_nbformat": 2
 },
 "nbformat": 4,
 "nbformat_minor": 2,
 "cells": [
  {
   "source": [
    "### Firebase API\n",
    "\n",
    "This notebook is meant as a place for you to experiment with the api functions. \n",
    "It might make it easier to compartmentalize your work and in the end the file can be converted into a python module. \n",
    "\n",
    "We are required to develop the following functions as described in their docstrings as well as\n",
    "those in the Heroku file\n",
    "\n",
    "#### Project ID:team-dynamax-covid-analysis\n",
    "\n",
    "The above ID is the project id on firebase. \n",
    "You all have been maded owners to explore the firebase console to dev the functionality"
   ],
   "cell_type": "markdown",
   "metadata": {}
  },
  {
   "cell_type": "code",
   "execution_count": null,
   "metadata": {},
   "outputs": [],
   "source": [
    "#Modules we will need\n",
    "import pandas as pd\n",
    "import numpy as np\n",
    "import pyrebase\n",
    "\n",
    "#as for the rest, you will have to see about getting and filling in"
   ]
  },
  {
   "cell_type": "code",
   "execution_count": null,
   "metadata": {},
   "outputs": [],
   "source": [
    "def connect_firebase(service_certificate_url):\n",
    "    \"\"\"\n",
    "    This function willl initialize a connection to the firebase api from the client script\n",
    "    to allow downloading and uploading.\n",
    "    This is to be used in the upload and download file methods\n",
    "    \"\"\"\n",
    "    pass"
   ]
  },
  {
   "cell_type": "code",
   "execution_count": null,
   "metadata": {},
   "outputs": [],
   "source": [
    "def upload_file(client_url,server_url):\n",
    "    \"\"\"\n",
    "    This  function should upload the file specified in client_url onto firebase\n",
    "    into server url\n",
    "    Eg. \n",
    "    >>upload_file(\"images/cat.png\",\"visualizations/cat.png\")\n",
    "    Firebase storage: \n",
    "    visualisations ---| ..\n",
    "                      | <random files if any>\n",
    "                      | ..\n",
    "                      |->cat.png\n",
    "    \"\"\"\n",
    "    pass"
   ]
  },
  {
   "cell_type": "code",
   "execution_count": null,
   "metadata": {},
   "outputs": [],
   "source": [
    "def fetch_file(client_url, server_url):\n",
    "    \"\"\"\n",
    "        This function should fetch the file in the url as specified and download it into the\n",
    "        client working directory by the url specified as client_url.\n",
    "    \"\"\"\n",
    "    pass"
   ]
  },
  {
   "cell_type": "code",
   "execution_count": null,
   "metadata": {},
   "outputs": [],
   "source": [
    "def version():\n",
    "    \"\"\"\n",
    "        Returns the version of the python module\n",
    "    \"\"\"\n",
    "    pass"
   ]
  }
 ]
}